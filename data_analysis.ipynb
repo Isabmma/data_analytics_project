{
 "cells": [
  {
   "cell_type": "markdown",
   "metadata": {},
   "source": [
    "# Data Analysis project\n",
    "\n",
    "Let's make a complete exercise of pandas to a data analysisproject. \n",
    "\n",
    "This exercise will obligate us to use a lot of pandas knowledges. \n",
    "\n",
    "### What do we have?\n",
    "\n",
    "We have data from 2019 of a service company. \n",
    "\n",
    "- CadastroFuncionarios\n",
    "- CadastroClientes\n",
    "- BaseServiçosPrestados\n",
    "\n",
    "Ps1: To read csv, let's use read_csv<br>\n",
    "Ps2: To read xlsx files (normal excel archives, who is not csv standard), let's use read_excel\n",
    "\n",
    "### What we want to know/do?\n",
    "\n",
    "1. Total value of the Salary Sheet -> What was the total expense on employee salaries by the company? <br>\n",
    "    Calculate the total salary for each employee, salary + benefits + taxes, then sum all salaries\n",
    "    \n",
    "    \n",
    "2. What was the company's invoicing?<br>\n",
    "    Calculate the total invoicing for each service and then sum the invoicing of all\n",
    "    \n",
    "    \n",
    "3. What % of employees have already signed a contract?<br>\n",
    "    In the service base we have the employee who closed each service. But not all the employees that the company has have already closed some service.<br>\n",
    "    . In the employee base we have a list of all employees<br>\n",
    "    . We want to calculate Qty_Employees_Closed_Service / Qty_Employees_Totals<br>\n",
    "    . To calculate the number of employees who closed a service, use the service base and count how many employees there are. But remember, each employee can only be counted once.<br><br>\n",
    "    If you apply the .unique() method on a variable which is just 1 column of a dataframe, it will delete all duplicate values from that column.<br>\n",
    "    Ex: unique_columnA = dataframe['columnA'].unique() gives you as a response a list with all items in columnA appearing only once. All repeated values of columnA are excluded from the unicos_columnA variable\n",
    "    \n",
    "    \n",
    "4. Calculate the total number of contracts that each area of the company has already closed\n",
    "\n",
    "\n",
    "5. Calculate the total number of employees by area\n",
    "\n",
    "\n",
    "6. What is the average monthly ticket (average monthly revenue) of the contracts?<br>\n",
    "    .mean() calculates the average -> exemple: media_colunaA = dataframe['colunaA'].mean()\n",
    "\n",
    "Ps: Recalling the most common options for encoding:<br>\n",
    "encoding='latin1', encoding='ISO-8859-1', encoding='utf-8' ou então encoding='cp1252'"
   ]
  },
  {
   "cell_type": "code",
   "execution_count": null,
   "metadata": {},
   "outputs": [],
   "source": []
  }
 ],
 "metadata": {
  "kernelspec": {
   "display_name": "Python 3.10.4 64-bit",
   "language": "python",
   "name": "python3"
  },
  "language_info": {
   "codemirror_mode": {
    "name": "ipython",
    "version": 3
   },
   "file_extension": ".py",
   "mimetype": "text/x-python",
   "name": "python",
   "nbconvert_exporter": "python",
   "pygments_lexer": "ipython3",
   "version": "3.10.4"
  },
  "vscode": {
   "interpreter": {
    "hash": "396a487d0f9a1aeea6eec7e2661c1b70bd880358e710a503b71d50d0e4959784"
   }
  }
 },
 "nbformat": 4,
 "nbformat_minor": 4
}
